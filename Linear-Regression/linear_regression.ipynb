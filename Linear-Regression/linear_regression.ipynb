{
 "cells": [
  {
   "cell_type": "markdown",
   "metadata": {},
   "source": [
    "## Import libraries"
   ]
  },
  {
   "cell_type": "code",
   "execution_count": 1,
   "metadata": {},
   "outputs": [],
   "source": [
    "import numpy as np\n",
    "import pandas as pd\n",
    "import matplotlib.pyplot as plt"
   ]
  },
  {
   "cell_type": "markdown",
   "metadata": {},
   "source": [
    "## Load data"
   ]
  },
  {
   "cell_type": "code",
   "execution_count": 2,
   "metadata": {
    "scrolled": true
   },
   "outputs": [
    {
     "data": {
      "text/html": [
       "<div>\n",
       "<style scoped>\n",
       "    .dataframe tbody tr th:only-of-type {\n",
       "        vertical-align: middle;\n",
       "    }\n",
       "\n",
       "    .dataframe tbody tr th {\n",
       "        vertical-align: top;\n",
       "    }\n",
       "\n",
       "    .dataframe thead th {\n",
       "        text-align: right;\n",
       "    }\n",
       "</style>\n",
       "<table border=\"1\" class=\"dataframe\">\n",
       "  <thead>\n",
       "    <tr style=\"text-align: right;\">\n",
       "      <th></th>\n",
       "      <th>area</th>\n",
       "      <th>price</th>\n",
       "    </tr>\n",
       "  </thead>\n",
       "  <tbody>\n",
       "    <tr>\n",
       "      <th>0</th>\n",
       "      <td>50</td>\n",
       "      <td>25</td>\n",
       "    </tr>\n",
       "    <tr>\n",
       "      <th>1</th>\n",
       "      <td>50</td>\n",
       "      <td>23</td>\n",
       "    </tr>\n",
       "    <tr>\n",
       "      <th>2</th>\n",
       "      <td>50</td>\n",
       "      <td>30</td>\n",
       "    </tr>\n",
       "    <tr>\n",
       "      <th>3</th>\n",
       "      <td>50</td>\n",
       "      <td>20</td>\n",
       "    </tr>\n",
       "    <tr>\n",
       "      <th>4</th>\n",
       "      <td>55</td>\n",
       "      <td>27</td>\n",
       "    </tr>\n",
       "    <tr>\n",
       "      <th>5</th>\n",
       "      <td>55</td>\n",
       "      <td>25</td>\n",
       "    </tr>\n",
       "    <tr>\n",
       "      <th>6</th>\n",
       "      <td>60</td>\n",
       "      <td>27</td>\n",
       "    </tr>\n",
       "    <tr>\n",
       "      <th>7</th>\n",
       "      <td>60</td>\n",
       "      <td>28</td>\n",
       "    </tr>\n",
       "    <tr>\n",
       "      <th>8</th>\n",
       "      <td>60</td>\n",
       "      <td>24</td>\n",
       "    </tr>\n",
       "    <tr>\n",
       "      <th>9</th>\n",
       "      <td>65</td>\n",
       "      <td>28</td>\n",
       "    </tr>\n",
       "  </tbody>\n",
       "</table>\n",
       "</div>"
      ],
      "text/plain": [
       "   area  price\n",
       "0    50     25\n",
       "1    50     23\n",
       "2    50     30\n",
       "3    50     20\n",
       "4    55     27\n",
       "5    55     25\n",
       "6    60     27\n",
       "7    60     28\n",
       "8    60     24\n",
       "9    65     28"
      ]
     },
     "execution_count": 2,
     "metadata": {},
     "output_type": "execute_result"
    }
   ],
   "source": [
    "# Simple data, with one variable (house area), and the label is the house price(K$).\n",
    "data_frame = pd.read_csv('house_data.txt', names=['area', 'price'])\n",
    "\n",
    "# Show the first ten samples of the data frame.\n",
    "data_frame.head(10)"
   ]
  },
  {
   "cell_type": "markdown",
   "metadata": {},
   "source": [
    "## Prepare the data "
   ]
  },
  {
   "cell_type": "code",
   "execution_count": 3,
   "metadata": {},
   "outputs": [],
   "source": [
    "# Convert the data frame to a numpy array.\n",
    "data = np.array(data_frame, dtype=np.float32)\n",
    "rows, cols = data.shape\n",
    "\n",
    "# Shuffle the data.\n",
    "np.random.shuffle(data)\n",
    "\n",
    "# Split the data into x data and y data, and convert them to numpy array.\n",
    "x_data = data[:,0].reshape(rows, cols-1)\n",
    "y_data = data[:,1].reshape(rows, 1)\n",
    "\n",
    "# Add the ones column to x_data\n",
    "ones = np.ones((rows, 1))\n",
    "x_data = np.hstack((ones, x_data))"
   ]
  },
  {
   "cell_type": "markdown",
   "metadata": {},
   "source": [
    "## Split the data, 70% for training and 30% for the test"
   ]
  },
  {
   "cell_type": "code",
   "execution_count": 4,
   "metadata": {},
   "outputs": [],
   "source": [
    "# Separation index\n",
    "idx = round(len(data) * 0.7)\n",
    "\n",
    "# Split the x_data\n",
    "x_train = x_data[:idx]\n",
    "x_test = x_data[idx:]\n",
    "\n",
    "# Split the y_data\n",
    "y_train = y_data[:idx]\n",
    "y_test = y_data[idx:]"
   ]
  },
  {
   "cell_type": "markdown",
   "metadata": {},
   "source": [
    "## Plot the data"
   ]
  },
  {
   "cell_type": "code",
   "execution_count": 5,
   "metadata": {
    "scrolled": true
   },
   "outputs": [
    {
     "data": {
      "image/png": "[encoded data removed]",
      "text/plain": [
       "<Figure size 432x288 with 1 Axes>"
      ]
     },
     "metadata": {
      "needs_background": "light"
     },
     "output_type": "display_data"
    }
   ],
   "source": [
    "plt.scatter(x_train[:,1:], y_train, color='b', label='Train')\n",
    "plt.scatter(x_test[:,1:], y_test, color='r', label='Test')\n",
    "plt.xlabel('Area (m2)')\n",
    "plt.ylabel('Price (K$)')\n",
    "plt.title('Price of apartements in Deroua city')\n",
    "plt.legend()\n",
    "plt.show()"
   ]
  },
  {
   "cell_type": "markdown",
   "metadata": {},
   "source": [
    "## Build the model"
   ]
  },
  {
   "cell_type": "code",
   "execution_count": 6,
   "metadata": {},
   "outputs": [],
   "source": [
    "#Create the linear regression model\n",
    "def lr_model(X, y, learning_rate, iterations):\n",
    "    m = y.size\n",
    "    theta = np.zeros((X.shape[1], 1))\n",
    "    cost = []\n",
    "    \n",
    "    for i in range(iterations):\n",
    "        h = np.dot(X, theta)\n",
    "        J = (1 / (2 * m)) * np.sum((h - y) ** 2)\n",
    "        \n",
    "        d_theta = (1 / m) * np.dot(X.T, (h - y))\n",
    "        theta = theta - learning_rate * d_theta\n",
    "        cost.append(J)\n",
    "    \n",
    "    return theta, cost"
   ]
  },
  {
   "cell_type": "code",
   "execution_count": 7,
   "metadata": {},
   "outputs": [],
   "source": [
    "Learning_rate = 0.0001\n",
    "iterations = 7\n",
    "theta, cost_fct = lr_model(x_train, y_train, Learning_rate, iterations)"
   ]
  },
  {
   "cell_type": "markdown",
   "metadata": {},
   "source": [
    "## Plottiing the cost function"
   ]
  },
  {
   "cell_type": "code",
   "execution_count": 8,
   "metadata": {
    "scrolled": false
   },
   "outputs": [
    {
     "data": {
      "image/png": "[encoded data removed]",
      "text/plain": [
       "<Figure size 432x288 with 1 Axes>"
      ]
     },
     "metadata": {
      "needs_background": "light"
     },
     "output_type": "display_data"
    }
   ],
   "source": [
    "# Plotting the cost function\n",
    "x_cost = np.arange(0, iterations)\n",
    "plt.plot(x_cost, cost_fct, color='r')\n",
    "plt.xlabel('Number of iterations')\n",
    "plt.ylabel('Cost function')\n",
    "plt.show()"
   ]
  },
  {
   "cell_type": "markdown",
   "metadata": {},
   "source": [
    "## Test the model"
   ]
  },
  {
   "cell_type": "code",
   "execution_count": 9,
   "metadata": {
    "scrolled": true
   },
   "outputs": [
    {
     "data": {
      "image/png": "[encoded data removed]",
      "text/plain": [
       "<Figure size 432x288 with 1 Axes>"
      ]
     },
     "metadata": {
      "needs_background": "light"
     },
     "output_type": "display_data"
    }
   ],
   "source": [
    "a = theta[1,0] # the slope (theta 0) \n",
    "b = theta[0,0] # Y-intercept (theta 1)\n",
    "\n",
    "# Function to predict the price\n",
    "def pred_price(x):\n",
    "    return a * x + b\n",
    "\n",
    "# Plot the best fit line, the predicted prices for the test data\n",
    "area = np.arange(40, 130)\n",
    "plt.plot(area, pred_price(area), 'k-.', label='Best fit line')\n",
    "plt.scatter(x_test[:,1:], y_test, color='r', s=30, label='Real price')\n",
    "plt.scatter(x_test[:,1:], pred_price(x_test[:,1:]), color='b', s=50, label='Predicted price')\n",
    "plt.xlabel('Surface (m2)')\n",
    "plt.ylabel('Price (K$)')\n",
    "plt.title('Price of apartements in Deroua city')\n",
    "plt.legend()\n",
    "plt.show()"
   ]
  },
  {
   "cell_type": "code",
   "execution_count": 10,
   "metadata": {},
   "outputs": [
    {
     "name": "stdout",
     "output_type": "stream",
     "text": [
      "The price of a 95 m2 apartement is about 42.86 K$.\n"
     ]
    }
   ],
   "source": [
    "# Test for one value\n",
    "area = 95\n",
    "price = pred_price(area)\n",
    "print(f'The price of a {area} m2 apartement is about {round(price, 2)} K$.')"
   ]
  }
 ],
 "metadata": {
  "kernelspec": {
   "display_name": "Python 3",
   "language": "python",
   "name": "python3"
  },
  "language_info": {
   "codemirror_mode": {
    "name": "ipython",
    "version": 3
   },
   "file_extension": ".py",
   "mimetype": "text/x-python",
   "name": "python",
   "nbconvert_exporter": "python",
   "pygments_lexer": "ipython3",
   "version": "3.8.8"
  }
 },
 "nbformat": 4,
 "nbformat_minor": 4
}
