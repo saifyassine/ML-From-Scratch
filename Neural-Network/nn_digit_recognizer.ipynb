{
 "cells": [
  {
   "cell_type": "markdown",
   "metadata": {},
   "source": [
    "## Import libraries"
   ]
  },
  {
   "cell_type": "code",
   "execution_count": 18,
   "metadata": {},
   "outputs": [],
   "source": [
    "import numpy as np\n",
    "import pandas as pd\n",
    "import matplotlib.pyplot as plt \n",
    "import pickle"
   ]
  },
  {
   "cell_type": "markdown",
   "metadata": {},
   "source": [
    "## Data preprocessing"
   ]
  },
  {
   "cell_type": "code",
   "execution_count": 2,
   "metadata": {},
   "outputs": [],
   "source": [
    "# For getting the dataset visit the link below\n",
    "# https://www.kaggle.com/c/digit-recognizer/data\n",
    "# Load Data\n",
    "train_data = pd.read_csv('Train Data.csv')\n",
    "test_data = pd.read_csv('Test Data.csv')"
   ]
  },
  {
   "cell_type": "code",
   "execution_count": 3,
   "metadata": {},
   "outputs": [],
   "source": [
    "# Convert Data framse to numpy array\n",
    "train_data = np.array(train_data)\n",
    "test_data = np.array(test_data)"
   ]
  },
  {
   "cell_type": "code",
   "execution_count": 4,
   "metadata": {},
   "outputs": [],
   "source": [
    "# Inputs and outputs\n",
    "x_train = train_data[:,1:]\n",
    "y_train = train_data[:,0].reshape(x_train.shape[0], 1)\n",
    "x_test = test_data   #There is no outputs for test data"
   ]
  },
  {
   "cell_type": "code",
   "execution_count": 5,
   "metadata": {
    "scrolled": true
   },
   "outputs": [
    {
     "name": "stdout",
     "output_type": "stream",
     "text": [
      "It is the number :  [6]\n"
     ]
    },
    {
     "data": {
      "image/png": "[encoded data removed]",
      "text/plain": [
       "<Figure size 432x288 with 1 Axes>"
      ]
     },
     "metadata": {
      "needs_background": "light"
     },
     "output_type": "display_data"
    }
   ],
   "source": [
    "#Visualize the data (Images)\n",
    "nbr_image = 160 # (from train data)\n",
    "plt.imshow(x_train[nbr_image].reshape(28, 28))\n",
    "print('It is the number : ', y_train[nbr_image])\n",
    "plt.show()"
   ]
  },
  {
   "cell_type": "markdown",
   "metadata": {},
   "source": [
    "## Build the model"
   ]
  },
  {
   "cell_type": "code",
   "execution_count": 6,
   "metadata": {},
   "outputs": [],
   "source": [
    "# Rectified linear unit function  (Activation function)\n",
    "def ReLU(z):\n",
    "    return np.maximum(0, z)"
   ]
  },
  {
   "cell_type": "code",
   "execution_count": 7,
   "metadata": {},
   "outputs": [],
   "source": [
    "# Derivative of ReLU function\n",
    "def dReLU(z):\n",
    "    return np.array(z > 0, dtype='int32')"
   ]
  },
  {
   "cell_type": "code",
   "execution_count": 8,
   "metadata": {},
   "outputs": [],
   "source": [
    "# Softmax function (Activation function)\n",
    "def softmax(z):\n",
    "    n, m = z.shape\n",
    "    z = np.exp(z)\n",
    "    sum_cols = np.sum(z, axis=0) # sum of every column\n",
    "    for j in range(m):\n",
    "        z[:,j] = z[:,j] / sum_cols[j] # devide every element of the jth column by his sum\n",
    "    return z"
   ]
  },
  {
   "cell_type": "code",
   "execution_count": 9,
   "metadata": {},
   "outputs": [],
   "source": [
    "# Get predictions\n",
    "def get_predictions(A3):\n",
    "    #the index of the maximum number of every column\n",
    "    return np.argmax(A3, 0).reshape(A3.shape[1], 1)"
   ]
  },
  {
   "cell_type": "code",
   "execution_count": 10,
   "metadata": {},
   "outputs": [],
   "source": [
    "# Get accuracy\n",
    "def get_accuracy(predictions, y):\n",
    "    return 100 * np.sum(predictions == y) / y.size"
   ]
  },
  {
   "cell_type": "code",
   "execution_count": 11,
   "metadata": {},
   "outputs": [],
   "source": [
    "# Create the neural network of our example\n",
    "def neural_network(X, y, alpha, iterations):\n",
    "    '''Create NN with one hidden layer (10 nodes)\n",
    "   Input layer : 784 input nodes\n",
    "   Output layer : 10 output [0 1 ....9] '''\n",
    "    \n",
    "    # Number of examples and features\n",
    "    m, n = X.shape\n",
    "    \n",
    "    # Organize X and Y for the calcul \n",
    "    X = X.T / 255    # nxm (rescal the data)\n",
    "    \n",
    "    # y mx1 shoud convert it to 10xm matrix with just zeros and ones\n",
    "    Y = np.zeros((10, m))\n",
    "    for e, i in zip(y, range(m)):\n",
    "        Y[int(e), i] = 1\n",
    "\n",
    "    # Initialise the weights (W) and the biases (b)\n",
    "    # Weights and biases of the frist Layer\n",
    "    W1 = np.random.rand(10, n)/1000                # 10xn\n",
    "    b1 = np.random.rand(10, 1)/1000                # 10x1\n",
    "    \n",
    "    # Weights and biases of second Layer\n",
    "    W2 = np.random.rand(10, 10)                    # 10x10\n",
    "    b2 = np.random.rand(10, 1)                     # 10x1\n",
    "    \n",
    "    accuracy_list = []\n",
    "    for i in range(iterations):\n",
    "        \n",
    "        # Forward propagation\n",
    "        B1 = np.dot(b1, np.ones((1, m)))                      # 10xm\n",
    "        B2 = np.dot(b2, np.ones((1, m)))                      # 10x10\n",
    "        \n",
    "        Z2 = np.dot(W1, X) + B1                               # 10Xm\n",
    "        A2 = ReLU(Z2)                                         # 10xm\n",
    "        \n",
    "        Z3 = np.dot(W2, A2) + B2                              # 10Xm \n",
    "        A3 = softmax(Z3)                                      # 10Xm \n",
    "        \n",
    "        # Backward propagation\n",
    "        dZ3 = A3 - Y                                          # 10xm\n",
    "        dW2 = (1/m) * np.dot(dZ3, A2.T)                       # 10x10\n",
    "        db2 = ((1/m) * np.sum(dZ3, axis = 1)).reshape(10, 1)  # 10x1\n",
    "        \n",
    "        dZ2 = np.dot(W2.T, dZ3) * dReLU(A2)                   # 10xm\n",
    "        dW1 = (1/m) * np.dot(dZ2, X.T)                        # 10xn\n",
    "        db1 = ((1/m) * np.sum(dZ2, axis = 1)).reshape(10, 1)  # 10x1\n",
    "        \n",
    "        # Update weights and biases\n",
    "        W1 += - alpha * dW1\n",
    "        b1 += - alpha * db1\n",
    "        W2 += - alpha * dW2\n",
    "        b2 += - alpha * db2\n",
    "        \n",
    "        # Watch the developement of the accurancy throught the training\n",
    "        if i % 5 == 0 :\n",
    "            predictions = get_predictions(A3)\n",
    "            accuracy = get_accuracy(predictions, y)\n",
    "            accuracy_list.append(accuracy)\n",
    "            print('Iteration : ', i)\n",
    "            print('Accurancy : ', round(accuracy, 2), '%')\n",
    "            print('----------------------------------------')\n",
    "     \n",
    "    return W1, b1, W2, b2, accuracy_list"
   ]
  },
  {
   "cell_type": "code",
   "execution_count": 35,
   "metadata": {
    "scrolled": false
   },
   "outputs": [],
   "source": [
    "# Train the model and return W1, b1, W2, b2\n",
    "alpha = 0.01\n",
    "iterations = 1100\n",
    "W1, b1, W2, b2, accuracy_list = neural_network(x_train, y_train, alpha, iterations)"
   ]
  },
  {
   "cell_type": "code",
   "execution_count": 37,
   "metadata": {},
   "outputs": [
    {
     "name": "stdout",
     "output_type": "stream",
     "text": [
      "The obtained accuracy after 1100 iterations: 86.24 %\n"
     ]
    }
   ],
   "source": [
    "# The obtained accuracy\n",
    "print(f'The obtained accuracy after 1100 iterations: {round(accuracy_list[-1], 2)} %')"
   ]
  },
  {
   "cell_type": "code",
   "execution_count": 38,
   "metadata": {},
   "outputs": [
    {
     "data": {
      "image/png": "[encoded data removed]",
      "text/plain": [
       "<Figure size 432x288 with 1 Axes>"
      ]
     },
     "metadata": {
      "needs_background": "light"
     },
     "output_type": "display_data"
    }
   ],
   "source": [
    "# Visual the accuracy\n",
    "nbr_iteration = np.arange(0, iterations, 5)\n",
    "plt.plot(nbr_iteration, accuracy_list, color = 'r')\n",
    "plt.xlabel('Number of iteration')\n",
    "plt.ylabel('Accuracy (%)')\n",
    "plt.title('Accuracy of the model by nbr of iterations')\n",
    "plt.show()"
   ]
  },
  {
   "cell_type": "markdown",
   "metadata": {},
   "source": [
    "## Save the model"
   ]
  },
  {
   "cell_type": "code",
   "execution_count": 24,
   "metadata": {},
   "outputs": [],
   "source": [
    "# Save the model using the pickle model\n",
    "# By saving the weight and the biases\n",
    "model = {}\n",
    "model['W1'] = W1\n",
    "model['b1'] = b1\n",
    "model['W2'] = W2\n",
    "model['b2'] = b2\n",
    "\n",
    "model_file = open('savedModel', 'ab')\n",
    "pickle.dump(model, model_file)\n",
    "model_file.close()"
   ]
  },
  {
   "cell_type": "code",
   "execution_count": 34,
   "metadata": {},
   "outputs": [],
   "source": [
    "# To load the weights and biases from the Model file\n",
    "model_file = open('savedModel', 'rb')     \n",
    "model = pickle.load(model_file)\n",
    "W1 = model['W1'] \n",
    "b1 = model['b1'] \n",
    "W2 = model['W2'] \n",
    "b2 = model['b2']\n",
    "model_file.close()"
   ]
  },
  {
   "cell_type": "markdown",
   "metadata": {},
   "source": [
    "## Test the model"
   ]
  },
  {
   "cell_type": "code",
   "execution_count": 25,
   "metadata": {},
   "outputs": [],
   "source": [
    "# Function that gets the predicted number\n",
    "def predict_nbr(image_data):\n",
    "    Z2 = np.dot(W1, image_data/255) + b1  # 10X1\n",
    "    A2 = ReLU(Z2)                         # 10x1   \n",
    "    Z3 = np.dot(W2, A2) + b2              # 10X1\n",
    "    A3 = softmax(Z3)                      # 10X1\n",
    "    nbr = np.argmax(A3, 0)\n",
    "    return nbr"
   ]
  },
  {
   "cell_type": "code",
   "execution_count": 33,
   "metadata": {},
   "outputs": [
    {
     "data": {
      "image/png": "[encoded data removed]",
      "text/plain": [
       "<Figure size 432x288 with 1 Axes>"
      ]
     },
     "metadata": {
      "needs_background": "light"
     },
     "output_type": "display_data"
    },
    {
     "name": "stdout",
     "output_type": "stream",
     "text": [
      "the number on the image is :  [0]\n"
     ]
    }
   ],
   "source": [
    "# Visualize the tested image\n",
    "nbr_image = 23041  # (from test data)\n",
    "plt.imshow(x_test[nbr_image].reshape(28, 28))\n",
    "plt.show()\n",
    "\n",
    "# Predicted number by the model\n",
    "image_data = x_test[nbr_image].reshape(x_test.shape[1], 1)\n",
    "predicted_nbr = predict_nbr(image_data)\n",
    "\n",
    "print(\"the number on the image is : \", predicted_nbr)"
   ]
  }
 ],
 "metadata": {
  "kernelspec": {
   "display_name": "Python 3",
   "language": "python",
   "name": "python3"
  },
  "language_info": {
   "codemirror_mode": {
    "name": "ipython",
    "version": 3
   },
   "file_extension": ".py",
   "mimetype": "text/x-python",
   "name": "python",
   "nbconvert_exporter": "python",
   "pygments_lexer": "ipython3",
   "version": "3.8.8"
  }
 },
 "nbformat": 4,
 "nbformat_minor": 4
}
